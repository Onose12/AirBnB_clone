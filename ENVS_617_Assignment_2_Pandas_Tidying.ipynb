{
  "nbformat": 4,
  "nbformat_minor": 0,
  "metadata": {
    "colab": {
      "provenance": [],
      "include_colab_link": true
    },
    "kernelspec": {
      "name": "python3",
      "display_name": "Python 3"
    },
    "language_info": {
      "name": "python"
    }
  },
  "cells": [
    {
      "cell_type": "markdown",
      "metadata": {
        "id": "view-in-github",
        "colab_type": "text"
      },
      "source": [
        "<a href=\"https://colab.research.google.com/github/Onose12/AirBnB_clone/blob/main/ENVS_617_Assignment_2_Pandas_Tidying.ipynb\" target=\"_parent\"><img src=\"https://colab.research.google.com/assets/colab-badge.svg\" alt=\"Open In Colab\"/></a>"
      ]
    },
    {
      "cell_type": "markdown",
      "source": [
        "# Assignment 2: Pandas & Data Tidying\n",
        "\n",
        "In this assignment we will load a dataset and tidy it a bit so it can spark joy!\n",
        "\n",
        "\n",
        "The dataset we are using describes 2013 greenhouse gas emissions from food products. This data can be viewed in a nicely visualized form at Our World in Data [here](https://ourworldindata.org/environmental-impacts-of-food), but the original data comes from [this paper](https://ourworldindata.org/environmental-impacts-of-food#explore-data-on-the-environmental-impacts-of-food) published in *Science* in 2018. (The data we're using is \"File (aaq0216_datas2.xls)\", linked at the bottom of the webpage.)\n",
        "\n",
        "We downloaded the data *exactly* as it was linked in the *Science* paper, and uploaded the raw Excel to out GitHub repository.\n",
        "\n",
        "We will be working with the raw data like the data scientists we are!\n",
        "\n",
        "NOTE: For this assignment, when we ask a question, please add a text field with your answer. (No need to write more than a few sentences, maximum.) If the question requires code, use the code field there or add one."
      ],
      "metadata": {
        "id": "_yxOIzF-0hfl"
      }
    },
    {
      "cell_type": "markdown",
      "source": [
        "# Part 1: Load the data\n",
        "\n",
        "First, load the data and create a pandas dataframe called `df_ghg`. The steps below breakdown the process:\n"
      ],
      "metadata": {
        "id": "BsqJUnxu1huh"
      }
    },
    {
      "cell_type": "markdown",
      "source": [
        "\n",
        "1. Import the pandas package"
      ],
      "metadata": {
        "id": "O1EXMI8hS8sT"
      }
    },
    {
      "cell_type": "code",
      "source": [
        "import pandas as pd"
      ],
      "metadata": {
        "id": "imo5iPZRUvZ_"
      },
      "execution_count": 10,
      "outputs": []
    },
    {
      "cell_type": "markdown",
      "source": [
        "2. Load the Excel data into `df_ghg` from the GitHub link here:\n",
        "\n",
        "  `https://github.com/envirodatascience/ENVS-617-Class-Data/blob/main/aaq0216_datas2.xls?raw=true`\n",
        "\n",
        "  Reading in this data will be an iterative process. For now, just take a first stab at reading in the data in *some* format.\n",
        "\n",
        "  Display a preview of your initial results."
      ],
      "metadata": {
        "id": "X7sjaaX3S_Q_"
      }
    },
    {
      "cell_type": "code",
      "source": [
        "url = \"https://github.com/envirodatascience/ENVS-617-Class-Data/blob/main/aaq0216_datas2.xls?raw=true\"\n",
        "df=pd.read_excel(url, skiprows=1)\n",
        "\n",
        "print(df)"
      ],
      "metadata": {
        "id": "c4qetU-tVJvO",
        "outputId": "5064f650-8db7-4244-d94d-75b995a7c192",
        "colab": {
          "base_uri": "https://localhost:8080/"
        }
      },
      "execution_count": 25,
      "outputs": [
        {
          "output_type": "stream",
          "name": "stdout",
          "text": [
            "                                           Unnamed: 0 Land Use (m2/FU)  \\\n",
            "0                                             Product         5th pctl   \n",
            "1                                 Wheat & Rye (Bread)             0.98   \n",
            "2                                        Maize (Meal)             0.99   \n",
            "3                                       Barley (Beer)             0.21   \n",
            "4                                             Oatmeal             2.64   \n",
            "5                                                Rice             0.99   \n",
            "6                                            Potatoes             0.37   \n",
            "7                                             Cassava             0.73   \n",
            "8                                          Cane Sugar             1.14   \n",
            "9                                          Beet Sugar             1.11   \n",
            "10                                       Other Pulses             4.08   \n",
            "11                                               Peas             2.28   \n",
            "12                                               Nuts             4.15   \n",
            "13                                         Groundnuts             4.22   \n",
            "14                                            Soymilk              0.3   \n",
            "15                                               Tofu             1.57   \n",
            "16                                        Soybean Oil             4.77   \n",
            "17                                           Palm Oil             1.37   \n",
            "18                                      Sunflower Oil              7.5   \n",
            "19                                       Rapeseed Oil             5.01   \n",
            "20                                          Olive Oil             7.85   \n",
            "21                                           Tomatoes             0.07   \n",
            "22                                     Onions & Leeks              0.1   \n",
            "23                                    Root Vegetables             0.16   \n",
            "24                                          Brassicas             0.19   \n",
            "25                                   Other Vegetables             0.17   \n",
            "26                                       Citrus Fruit             0.29   \n",
            "27                                            Bananas             0.22   \n",
            "28                                             Apples              0.3   \n",
            "29                                   Berries & Grapes             0.23   \n",
            "30                                               Wine             0.86   \n",
            "31                                        Other Fruit             0.21   \n",
            "32                                             Coffee              8.3   \n",
            "33                                     Dark Chocolate            21.57   \n",
            "34                            Bovine Meat (beef herd)            70.41   \n",
            "35                           Bovine Meat (dairy herd)            12.27   \n",
            "36                                      Lamb & Mutton            47.85   \n",
            "37                                           Pig Meat             7.39   \n",
            "38                                       Poultry Meat             6.46   \n",
            "39                                               Milk              0.8   \n",
            "40                                             Cheese             7.86   \n",
            "41                                               Eggs             4.25   \n",
            "42                                      Fish (farmed)              0.3   \n",
            "43                               Crustaceans (farmed)              0.6   \n",
            "44                                                NaN              NaN   \n",
            "45  Note: See table S1 for definitions of retail w...              NaN   \n",
            "\n",
            "   Unnamed: 2 Unnamed: 3 Unnamed: 4 Unnamed: 5 Unnamed: 6  \\\n",
            "0   10th pctl       Mean     Median  90th pctl  95th pctl   \n",
            "1        1.11       3.85        2.7       7.87       9.96   \n",
            "2        1.14       2.94       1.84        5.7       9.01   \n",
            "3        0.26       1.11       0.88       2.37       2.87   \n",
            "4        2.85        7.6       7.72      12.88      13.98   \n",
            "5         1.1        2.8       2.15       6.21       7.21   \n",
            "6        0.44       0.88       0.82        1.4       1.66   \n",
            "7        0.76       1.81       1.32       3.19       3.28   \n",
            "8        1.17       2.04       1.78       3.11       3.53   \n",
            "9        1.19       1.83       1.52       3.09       3.29   \n",
            "10       9.93      15.57      12.24      41.25      41.87   \n",
            "11       2.77       7.46       6.73      14.19      20.47   \n",
            "12       4.49      12.96       8.73      26.59      26.59   \n",
            "13       4.67       9.11       7.87      15.38      15.38   \n",
            "14       0.34       0.66       0.64       0.92       1.07   \n",
            "15       1.77       3.52       3.41       4.94       5.87   \n",
            "16       5.25      10.52       9.61      14.64      17.47   \n",
            "17       1.67       2.42       2.39       2.99       3.29   \n",
            "18       8.37      17.66       16.3      27.04      29.69   \n",
            "19       5.22      10.63       9.42      19.04      20.97   \n",
            "20       7.85      26.31      17.29      36.32      36.32   \n",
            "21       0.09        0.8       0.17       0.93       5.62   \n",
            "22        0.1       0.39        0.3       0.62       0.62   \n",
            "23       0.17       0.33       0.27       0.32       0.45   \n",
            "24       0.19       0.55       0.34        0.8        2.3   \n",
            "25       0.17       0.38       0.19       0.77       1.07   \n",
            "26       0.35       0.86       0.68       1.75       1.75   \n",
            "27       0.28       1.93       1.39       2.99       9.44   \n",
            "28       0.31       0.63       0.51       0.99       1.02   \n",
            "29       0.25       2.41       2.58       6.85       6.86   \n",
            "30       0.86       1.78       1.64       2.76       3.48   \n",
            "31       0.21       0.89       0.92       1.42       1.85   \n",
            "32       8.44      21.62       11.9      40.28      40.66   \n",
            "33       34.7      68.96      53.83     123.26     144.66   \n",
            "34      82.84     326.21     170.37     735.09      910.1   \n",
            "35      14.39      43.24      25.94      64.12     106.37   \n",
            "36      60.06     369.81     127.41     442.34     724.65   \n",
            "37       7.76      17.36      13.44      31.11      34.09   \n",
            "38       6.65      12.22      11.01      16.02       20.4   \n",
            "39       1.11       8.95        2.1        9.3      32.19   \n",
            "40       9.55      87.79      20.18     239.21     323.45   \n",
            "41       4.38       6.27       5.71       8.79       8.81   \n",
            "42       0.82       8.41        5.6       10.5      26.26   \n",
            "43       0.61       2.97       0.82       5.19        5.2   \n",
            "44        NaN        NaN        NaN        NaN        NaN   \n",
            "45        NaN        NaN        NaN        NaN        NaN   \n",
            "\n",
            "   GHG Emissions (kg CO2eq/FU, IPCC 2013 incl. CC feedbacks) Unnamed: 8  \\\n",
            "0                                            5th pctl         10th pctl   \n",
            "1                                                0.71              0.79   \n",
            "2                                                0.66              0.73   \n",
            "3                                                0.59               0.7   \n",
            "4                                                 0.8              0.85   \n",
            "5                                                1.15              1.46   \n",
            "6                                                0.09              0.16   \n",
            "7                                                0.26              0.35   \n",
            "8                                                0.62              0.92   \n",
            "9                                                1.01              1.21   \n",
            "10                                               0.89              0.98   \n",
            "11                                               0.51              0.56   \n",
            "12                                              -4.02             -3.65   \n",
            "13                                               1.42              1.63   \n",
            "14                                               0.51              0.58   \n",
            "15                                               1.41               1.6   \n",
            "16                                               2.16              2.43   \n",
            "17                                               2.78              3.61   \n",
            "18                                               2.17              2.46   \n",
            "19                                               2.23               2.5   \n",
            "20                                               2.13              2.86   \n",
            "21                                               0.37              0.39   \n",
            "22                                               0.28               0.3   \n",
            "23                                               0.21              0.24   \n",
            "24                                               0.21              0.23   \n",
            "25                                               0.21              0.23   \n",
            "26                                               0.01              0.08   \n",
            "27                                               0.56              0.61   \n",
            "28                                               0.26              0.29   \n",
            "29                                               0.64              0.77   \n",
            "30                                               0.74              0.91   \n",
            "31                                               0.27              0.35   \n",
            "32                                               4.35               5.2   \n",
            "33                                              -3.95              -0.1   \n",
            "34                                              37.57             40.37   \n",
            "35                                              14.93             17.94   \n",
            "36                                               23.7             24.52   \n",
            "37                                               6.91              7.41   \n",
            "38                                               3.95              4.18   \n",
            "39                                               1.51               1.7   \n",
            "40                                              10.21             10.92   \n",
            "41                                               2.85              2.93   \n",
            "42                                               5.41              5.65   \n",
            "43                                               7.41              8.04   \n",
            "44                                                NaN               NaN   \n",
            "45                                                NaN               NaN   \n",
            "\n",
            "   Unnamed: 9  ... GHG (kg CO2eq/FU, IPCC 2013 incl. CC feedbacks)  \\\n",
            "0        Mean  ...                                             Min   \n",
            "1        1.57  ...                                        0.417098   \n",
            "2         1.7  ...                                        0.453814   \n",
            "3        1.18  ...                                        0.439197   \n",
            "4        2.48  ...                                        0.768921   \n",
            "5        4.45  ...                                        1.127204   \n",
            "6        0.46  ...                                        0.099775   \n",
            "7        1.32  ...                                        0.214239   \n",
            "8         3.2  ...                                        0.551047   \n",
            "9        1.81  ...                                        0.934153   \n",
            "10       1.79  ...                                        0.665679   \n",
            "11       0.98  ...                                        0.448359   \n",
            "12       0.43  ...                                       -8.088359   \n",
            "13       3.23  ...                                        1.280465   \n",
            "14       0.98  ...                                        0.700825   \n",
            "15       3.16  ...                                         1.70523   \n",
            "16       6.32  ...                                        2.162778   \n",
            "17       7.32  ...                                       -0.266883   \n",
            "18        3.6  ...                                        2.138707   \n",
            "19       3.77  ...                                        1.952156   \n",
            "20       5.42  ...                                        1.885738   \n",
            "21       2.09  ...                                        0.222899   \n",
            "22        0.5  ...                                        0.175612   \n",
            "23       0.43  ...                                        0.169445   \n",
            "24       0.51  ...                                        0.217305   \n",
            "25       0.53  ...                                         0.09181   \n",
            "26       0.39  ...                                        0.019096   \n",
            "27       0.86  ...                                        0.488926   \n",
            "28       0.43  ...                                        0.166292   \n",
            "29       1.53  ...                                        0.431204   \n",
            "30       1.79  ...                                         0.96862   \n",
            "31       1.05  ...                                        0.032885   \n",
            "32      28.53  ...                                        4.727222   \n",
            "33      46.65  ...                                       -3.909216   \n",
            "34      99.48  ...                                       35.062785   \n",
            "35       33.3  ...                                        9.567208   \n",
            "36      39.72  ...                                       21.781948   \n",
            "37      12.31  ...                                        6.635532   \n",
            "38       9.87  ...                                        4.033998   \n",
            "39       3.15  ...                                        1.345405   \n",
            "40      23.88  ...                                        9.026556   \n",
            "41       4.67  ...                                          2.5621   \n",
            "42      13.63  ...                                        5.205339   \n",
            "43      26.87  ...                                        8.325215   \n",
            "44        NaN  ...                                             NaN   \n",
            "45        NaN  ...                                             NaN   \n",
            "\n",
            "   Unnamed: 46 Acid. (kg SO2eq/FU, CML2 Baseline)  Unnamed: 48  \\\n",
            "0          Max                                Min          Max   \n",
            "1    56.043627                           3.407876    33.477292   \n",
            "2    72.276385                           2.923807    25.476467   \n",
            "3     2.639285                           4.822939    38.361277   \n",
            "4     4.263916                           4.773492    28.592331   \n",
            "5    14.394758                           5.864225    88.874015   \n",
            "6     1.627327                              2.058    10.932167   \n",
            "7    36.181402                           2.641721     5.818416   \n",
            "8    47.581663                           4.983017    38.031184   \n",
            "9     3.464563                           4.409712     68.59162   \n",
            "10    5.265505                           3.933794    36.788666   \n",
            "11    2.294712                           3.110063    20.622533   \n",
            "12   23.677203                           10.92617   119.175042   \n",
            "13    6.180464                           9.233708    57.026162   \n",
            "14    1.889881                           3.182235     4.782195   \n",
            "15     8.07427                           8.832082    17.431621   \n",
            "16   21.308473                          11.418939    36.181485   \n",
            "17   14.173021                            6.81138    22.546243   \n",
            "18    7.734857                           8.710571    66.320864   \n",
            "19   13.638055                          11.979827   190.760546   \n",
            "20   20.273985                           9.829239   111.775327   \n",
            "21    28.96176                           2.937925   240.623773   \n",
            "22    0.857266                           2.454607     4.784732   \n",
            "23     1.47389                           2.345777     4.261906   \n",
            "24    2.362437                           1.930353    10.612753   \n",
            "25   12.348197                           1.457194    62.911647   \n",
            "26    2.655811                           1.727813     6.427327   \n",
            "27    1.618831                           3.360185    13.771747   \n",
            "28    1.202193                           1.465131     5.530368   \n",
            "29    8.408536                           2.838724    87.722396   \n",
            "30    4.701181                           5.612987    35.684354   \n",
            "31    4.898787                           3.118368    22.114821   \n",
            "32   84.586192                          33.351264   181.564745   \n",
            "33  257.945181                           6.002274   167.499601   \n",
            "34  432.047259                          59.778823   807.636218   \n",
            "35   73.921818                         136.277545  1155.193201   \n",
            "36   72.142416                           81.43016   478.464223   \n",
            "37   27.645756                          57.888883   467.297798   \n",
            "38   47.701887                          29.987429   591.814061   \n",
            "39   14.577053                           5.646225    33.477937   \n",
            "40  150.519031                            37.4553   290.405757   \n",
            "41    8.440272                          20.261383    88.748068   \n",
            "42   87.778273                          27.847193     239.0826   \n",
            "43   99.042589                          63.823094   487.796759   \n",
            "44         NaN                                NaN          NaN   \n",
            "45         NaN                                NaN          NaN   \n",
            "\n",
            "   Eutr. (kg PO43-eq/FU, CML2 Baseline)  Unnamed: 50 Fresh W. (L/FU)  \\\n",
            "0                                   Min          Max             Min   \n",
            "1                               0.16895    77.377291        1.140702   \n",
            "2                              0.780147    20.807681               0   \n",
            "3                              1.044854    12.371997        6.230092   \n",
            "4                              3.402989    25.382344               0   \n",
            "5                              2.089442   172.102962               0   \n",
            "6                              0.633825    12.056213               0   \n",
            "7                              0.494759     0.834219               0   \n",
            "8                              2.475257   133.728915        7.164531   \n",
            "9                              2.105777    16.578184       10.281537   \n",
            "10                              0.77661    48.944426               0   \n",
            "11                             0.787241    33.643861               0   \n",
            "12                             5.344289    90.741576               0   \n",
            "13                             5.086438    19.669687               0   \n",
            "14                             0.516282     4.280018        1.159283   \n",
            "15                             2.934621    23.118954         6.01997   \n",
            "16                             2.612739    61.125944        1.442194   \n",
            "17                             1.898456    17.100055        5.876381   \n",
            "18                             7.546945   175.685435        2.727067   \n",
            "19                              3.33076    66.646627        1.361106   \n",
            "20                             3.206823    63.740774        3.213778   \n",
            "21                             0.250973   116.250136        3.909905   \n",
            "22                             0.657271     7.440024               0   \n",
            "23                             0.494682     9.892292               0   \n",
            "24                             0.935222     6.644021               0   \n",
            "25                             0.282795    15.513052        0.408163   \n",
            "26                             0.250664     6.478692               0   \n",
            "27                              1.53739    37.368541               0   \n",
            "28                             0.204962     4.238972               0   \n",
            "29                             0.556421    17.421519       10.949294   \n",
            "30                             0.446179     12.43086        1.633157   \n",
            "31                             0.665186    20.085365               0   \n",
            "32                            15.575616    268.79595       10.405013   \n",
            "33                             3.384082   237.740632        6.681145   \n",
            "34                            80.825249   669.543547      101.045738   \n",
            "35                             83.19075  2637.267651      187.416068   \n",
            "36                            23.484294    205.46031       86.273866   \n",
            "37                            29.427885   236.701373       67.364324   \n",
            "38                            22.912939   305.697007       19.121726   \n",
            "39                             2.155756     27.90626        7.677393   \n",
            "40                            20.363466   248.506898       60.252908   \n",
            "41                            11.969206    40.579729      139.672388   \n",
            "42                            18.391414  3505.641364      135.949194   \n",
            "43                            68.557067  1147.461202               0   \n",
            "44                                  NaN          NaN             NaN   \n",
            "45                                  NaN          NaN             NaN   \n",
            "\n",
            "      Unnamed: 52 Strs. W. WU (L/FU)     Unnamed: 54  \n",
            "0             Max                Min             Max  \n",
            "1     8675.359047           1.395022   333260.436228  \n",
            "2     7190.948767                  0   461216.164137  \n",
            "3      568.804918           4.422704    41483.803982  \n",
            "4     1791.100466                  0   105303.865196  \n",
            "5    12406.611092                  0   832397.387121  \n",
            "6      834.365165                  0     40553.99636  \n",
            "7               0                  0               0  \n",
            "8     7770.099414           8.516151   359239.122185  \n",
            "9      1900.06263           9.934868    87128.546102  \n",
            "10    7538.272103                  0   432637.417155  \n",
            "11    4050.646778                  0    302949.73582  \n",
            "12   11383.532966                  0   807659.273424  \n",
            "13    6524.680483                  0   195134.858891  \n",
            "14     209.079386           1.002279    19424.656133  \n",
            "15    1123.970966           5.204676   104435.414067  \n",
            "16    3294.384177           1.246876    307031.50113  \n",
            "17       7.413145           3.682467       67.222093  \n",
            "18    5977.160044           2.357736   519840.661037  \n",
            "19    12110.24951           0.910809  1044364.866454  \n",
            "20     6907.50549          130.31638   621151.527083  \n",
            "21    4542.277037           12.81487    24103.463802  \n",
            "22      75.468855                  0     5222.183617  \n",
            "23       92.53612                  0     6816.234648  \n",
            "24     656.458886                  0    62328.696849  \n",
            "25    1435.818583           0.379416    78311.648189  \n",
            "26     517.825561                  0    46578.869715  \n",
            "27     854.676194                  0     6147.138872  \n",
            "28    1775.631432                  0    52971.736354  \n",
            "29    1026.687996          20.232867    43007.422552  \n",
            "30     593.869344           1.341377    36973.401555  \n",
            "31    2506.628291                  0    142268.55245  \n",
            "32      38.279714            5.08441      811.174928  \n",
            "33   35511.362436           5.146018   164085.681524  \n",
            "34   26951.042253         170.361312  1569705.822849  \n",
            "35    9328.980045         267.387517   233168.426406  \n",
            "36    9338.017854         995.283212   689108.346254  \n",
            "37    6318.158326          51.630386   236070.732342  \n",
            "38    4710.253379          21.131728   214879.147983  \n",
            "39    4233.621594          15.969382    90838.072539  \n",
            "40    45167.22543         136.836841   969209.819233  \n",
            "41     2145.41223         411.698979    97886.672208  \n",
            "42  110939.557394         786.974746   182625.096274  \n",
            "43   34806.784616                  0  1308548.040675  \n",
            "44            NaN                NaN             NaN  \n",
            "45            NaN                NaN             NaN  \n",
            "\n",
            "[46 rows x 55 columns]\n"
          ]
        }
      ]
    },
    {
      "cell_type": "markdown",
      "source": [
        "3. Raw data does not always come in a tidy format! Take a moment to orient yourself to what is going on in this Excel data. Feel free to open the Excel file directly to have a look (paste the GitHub link into a browser or download from the *Science* link above).\n",
        "\n",
        "  How is this Excel organized?"
      ],
      "metadata": {
        "id": "txrv9D0eTyw0"
      }
    },
    {
      "cell_type": "markdown",
      "source": [
        "its is organized into rows and columns, no missing data, each row has a specific food product, the year of data collection was stated, the unit of measurement for 1kg of the GHG emission for wach food product was stated."
      ],
      "metadata": {
        "id": "_39_mjrPXZt1"
      }
    },
    {
      "cell_type": "markdown",
      "source": [
        "4. For this assignment, we only care about the data on 2013 greenhouse gas emissions for each food item. Specifically, we only care about the food product field, and the data fields within `GHG Emissions (kg CO2eq/FU, IPCC 2013 incl. CC feedbacks)`\n",
        "\n",
        "  Read in this subsest of the data and display the entire dataframe. Make sure you have a single header row, and no extra \"notes\" rows at the bottom.\n",
        "\n",
        "  HINT: you will likely want to use the following arguments to specify what data should be read in:\n",
        "    * `usecols=`: A list of integers representing the column numbers (0-indexed) to be read in\n",
        "    * `skiprows=`: The number (integer) of lines to skip at the start of the file\n",
        "    * `skipfooter=`: The number (integer) of lines to drop at the bottom of the file\n",
        "\n",
        "  This is tricky! Don't be afraid to experiment."
      ],
      "metadata": {
        "id": "CdgqotH3VYKT"
      }
    },
    {
      "cell_type": "code",
      "source": [
        "df_ghg = pd.read_excel(\n",
        "    url,\n",
        "    usecols=[0, 7, 8, 9, 10, 11, 12],  # Include only the \"Product\" and \"GHG Emissions\" fields\n",
        "    skiprows=2,  # Skip the initial note rows\n",
        "    skipfooter=2\n",
        ")"
      ],
      "metadata": {
        "id": "d85cP1bydKcg"
      },
      "execution_count": 30,
      "outputs": []
    },
    {
      "cell_type": "markdown",
      "source": [
        "5. Our data is now tidy! But we did drop some information when we dropped some of the headers. Let's add that information into new columns in our tidy dataframe. We'll \"hardcode\" these new columns, meaning we'll explicitly and statically define them from scratch.\n",
        "\n",
        "  Create a column `Year` with the year covered by this data\n"
      ],
      "metadata": {
        "id": "hOUt6nUSZK1S"
      }
    },
    {
      "cell_type": "code",
      "source": [
        "df_ghg['Year'] = 2013\n",
        "print(df_ghg)"
      ],
      "metadata": {
        "id": "cYBQwoXuj-86",
        "outputId": "8368046a-c8bb-4525-8c8d-3f16911763ac",
        "colab": {
          "base_uri": "https://localhost:8080/"
        }
      },
      "execution_count": 32,
      "outputs": [
        {
          "output_type": "stream",
          "name": "stdout",
          "text": [
            "                     Product  5th pctl.1  10th pctl.1  Mean.1  Median.1  \\\n",
            "0        Wheat & Rye (Bread)        0.71         0.79    1.57      1.27   \n",
            "1               Maize (Meal)        0.66         0.73    1.70      1.18   \n",
            "2              Barley (Beer)        0.59         0.70    1.18      1.18   \n",
            "3                    Oatmeal        0.80         0.85    2.48      2.59   \n",
            "4                       Rice        1.15         1.46    4.45      3.73   \n",
            "5                   Potatoes        0.09         0.16    0.46      0.47   \n",
            "6                    Cassava        0.26         0.35    1.32      1.05   \n",
            "7                 Cane Sugar        0.62         0.92    3.20      3.17   \n",
            "8                 Beet Sugar        1.01         1.21    1.81      1.76   \n",
            "9               Other Pulses        0.89         0.98    1.79      1.39   \n",
            "10                      Peas        0.51         0.56    0.98      0.80   \n",
            "11                      Nuts       -4.02        -3.65    0.43     -1.33   \n",
            "12                Groundnuts        1.42         1.63    3.23      3.29   \n",
            "13                   Soymilk        0.51         0.58    0.98      0.91   \n",
            "14                      Tofu        1.41         1.60    3.16      2.58   \n",
            "15               Soybean Oil        2.16         2.43    6.32      3.87   \n",
            "16                  Palm Oil        2.78         3.61    7.32      7.19   \n",
            "17             Sunflower Oil        2.17         2.46    3.60      3.53   \n",
            "18              Rapeseed Oil        2.23         2.50    3.77      3.52   \n",
            "19                 Olive Oil        2.13         2.86    5.42      5.09   \n",
            "20                  Tomatoes        0.37         0.39    2.09      0.65   \n",
            "21            Onions & Leeks        0.28         0.30    0.50      0.41   \n",
            "22           Root Vegetables        0.21         0.24    0.43      0.40   \n",
            "23                 Brassicas        0.21         0.23    0.51      0.35   \n",
            "24          Other Vegetables        0.21         0.23    0.53      0.42   \n",
            "25              Citrus Fruit        0.01         0.08    0.39      0.34   \n",
            "26                   Bananas        0.56         0.61    0.86      0.83   \n",
            "27                    Apples        0.26         0.29    0.43      0.42   \n",
            "28          Berries & Grapes        0.64         0.77    1.53      1.39   \n",
            "29                      Wine        0.74         0.91    1.79      1.59   \n",
            "30               Other Fruit        0.27         0.35    1.05      0.72   \n",
            "31                    Coffee        4.35         5.20   28.53      8.15   \n",
            "32            Dark Chocolate       -3.95        -0.10   46.65      4.95   \n",
            "33   Bovine Meat (beef herd)       37.57        40.37   99.48     60.36   \n",
            "34  Bovine Meat (dairy herd)       14.93        17.94   33.30     34.14   \n",
            "35             Lamb & Mutton       23.70        24.52   39.72     40.61   \n",
            "36                  Pig Meat        6.91         7.41   12.31     10.57   \n",
            "37              Poultry Meat        3.95         4.18    9.87      7.52   \n",
            "38                      Milk        1.51         1.70    3.15      2.65   \n",
            "39                    Cheese       10.21        10.92   23.88     18.64   \n",
            "40                      Eggs        2.85         2.93    4.67      4.21   \n",
            "41             Fish (farmed)        5.41         5.65   13.63      7.89   \n",
            "42      Crustaceans (farmed)        7.41         8.04   26.87     14.71   \n",
            "\n",
            "    90th pctl.1  95th pctl.1  Year  \n",
            "0          2.31         3.07  2013  \n",
            "1          2.31         3.52  2013  \n",
            "2          1.64         1.77  2013  \n",
            "3          4.08         4.30  2013  \n",
            "4          8.77        10.26  2013  \n",
            "5          0.63         0.70  2013  \n",
            "6          2.11         2.24  2013  \n",
            "7          5.10         5.59  2013  \n",
            "8          2.42         2.64  2013  \n",
            "9          3.75         4.00  2013  \n",
            "10         1.67         1.87  2013  \n",
            "11         3.84        10.79  2013  \n",
            "12         5.81         6.15  2013  \n",
            "13         1.47         1.74  2013  \n",
            "14         5.55         7.27  2013  \n",
            "15        13.44        18.80  2013  \n",
            "16        12.04        13.07  2013  \n",
            "17         4.58         4.94  2013  \n",
            "18         4.64         7.18  2013  \n",
            "19         7.63        10.79  2013  \n",
            "20         5.95        12.62  2013  \n",
            "21         0.79         0.82  2013  \n",
            "22         0.56         0.61  2013  \n",
            "23         0.97         1.24  2013  \n",
            "24         0.97         1.13  2013  \n",
            "25         0.56         0.66  2013  \n",
            "26         1.18         1.30  2013  \n",
            "27         0.57         0.60  2013  \n",
            "28         2.67         2.91  2013  \n",
            "29         2.65         4.68  2013  \n",
            "30         2.93         2.96  2013  \n",
            "31        84.85        85.74  2013  \n",
            "32       134.70       257.48  2013  \n",
            "33       209.85       269.19  2013  \n",
            "34        50.90        56.68  2013  \n",
            "35        54.44        60.16  2013  \n",
            "36        22.26        23.79  2013  \n",
            "37        20.12        20.82  2013  \n",
            "38         4.83         7.00  2013  \n",
            "39        39.32        58.79  2013  \n",
            "40         8.39         8.49  2013  \n",
            "41        26.51        32.64  2013  \n",
            "42        52.12       115.09  2013  \n"
          ]
        }
      ]
    },
    {
      "cell_type": "markdown",
      "source": [
        "6. Create a column `Units` that includes the scientific units for this data"
      ],
      "metadata": {
        "id": "yvRAewoSZ3g3"
      }
    },
    {
      "cell_type": "code",
      "source": [
        "df_ghg['Units'] = 'kg CO2eq/FU (IPCC 2013 incl. CC feedbacks)'"
      ],
      "metadata": {
        "id": "I77vNDtrkkGi"
      },
      "execution_count": 35,
      "outputs": []
    },
    {
      "cell_type": "markdown",
      "source": [
        "7. We've added information on the dates and units for this data, but it is still not very clear (from a quick glance) what this data is representing. Let's add one more column `Measure` with a short, readable description of the numerical data: \"2013 GHG Emiss.\"\n",
        "\n",
        "  Create `Measure` by referencing the `Year` column you already created. You will need to cast that column. (Note: it's generally a good idea to define new things by referencing old things - that way, if you ever need to make a change, you only need to make a chance in one place. All other changes will flow through.)\n",
        "  \n",
        "  Check that `Measure` is correctly defined by displaying your results.\n"
      ],
      "metadata": {
        "id": "g_nHcnxEacDE"
      }
    },
    {
      "cell_type": "code",
      "source": [
        "df_ghg['Measure'] = df_ghg['Year'].astype(str) + \" GHG Emiss.\"\n",
        "print(df_ghg)"
      ],
      "metadata": {
        "id": "gX-HjzeKk_A8",
        "outputId": "567c159f-76d5-46b9-a9cf-f8c6ba331f36",
        "colab": {
          "base_uri": "https://localhost:8080/"
        }
      },
      "execution_count": 37,
      "outputs": [
        {
          "output_type": "stream",
          "name": "stdout",
          "text": [
            "                     Product  5th pctl.1  10th pctl.1  Mean.1  Median.1  \\\n",
            "0        Wheat & Rye (Bread)        0.71         0.79    1.57      1.27   \n",
            "1               Maize (Meal)        0.66         0.73    1.70      1.18   \n",
            "2              Barley (Beer)        0.59         0.70    1.18      1.18   \n",
            "3                    Oatmeal        0.80         0.85    2.48      2.59   \n",
            "4                       Rice        1.15         1.46    4.45      3.73   \n",
            "5                   Potatoes        0.09         0.16    0.46      0.47   \n",
            "6                    Cassava        0.26         0.35    1.32      1.05   \n",
            "7                 Cane Sugar        0.62         0.92    3.20      3.17   \n",
            "8                 Beet Sugar        1.01         1.21    1.81      1.76   \n",
            "9               Other Pulses        0.89         0.98    1.79      1.39   \n",
            "10                      Peas        0.51         0.56    0.98      0.80   \n",
            "11                      Nuts       -4.02        -3.65    0.43     -1.33   \n",
            "12                Groundnuts        1.42         1.63    3.23      3.29   \n",
            "13                   Soymilk        0.51         0.58    0.98      0.91   \n",
            "14                      Tofu        1.41         1.60    3.16      2.58   \n",
            "15               Soybean Oil        2.16         2.43    6.32      3.87   \n",
            "16                  Palm Oil        2.78         3.61    7.32      7.19   \n",
            "17             Sunflower Oil        2.17         2.46    3.60      3.53   \n",
            "18              Rapeseed Oil        2.23         2.50    3.77      3.52   \n",
            "19                 Olive Oil        2.13         2.86    5.42      5.09   \n",
            "20                  Tomatoes        0.37         0.39    2.09      0.65   \n",
            "21            Onions & Leeks        0.28         0.30    0.50      0.41   \n",
            "22           Root Vegetables        0.21         0.24    0.43      0.40   \n",
            "23                 Brassicas        0.21         0.23    0.51      0.35   \n",
            "24          Other Vegetables        0.21         0.23    0.53      0.42   \n",
            "25              Citrus Fruit        0.01         0.08    0.39      0.34   \n",
            "26                   Bananas        0.56         0.61    0.86      0.83   \n",
            "27                    Apples        0.26         0.29    0.43      0.42   \n",
            "28          Berries & Grapes        0.64         0.77    1.53      1.39   \n",
            "29                      Wine        0.74         0.91    1.79      1.59   \n",
            "30               Other Fruit        0.27         0.35    1.05      0.72   \n",
            "31                    Coffee        4.35         5.20   28.53      8.15   \n",
            "32            Dark Chocolate       -3.95        -0.10   46.65      4.95   \n",
            "33   Bovine Meat (beef herd)       37.57        40.37   99.48     60.36   \n",
            "34  Bovine Meat (dairy herd)       14.93        17.94   33.30     34.14   \n",
            "35             Lamb & Mutton       23.70        24.52   39.72     40.61   \n",
            "36                  Pig Meat        6.91         7.41   12.31     10.57   \n",
            "37              Poultry Meat        3.95         4.18    9.87      7.52   \n",
            "38                      Milk        1.51         1.70    3.15      2.65   \n",
            "39                    Cheese       10.21        10.92   23.88     18.64   \n",
            "40                      Eggs        2.85         2.93    4.67      4.21   \n",
            "41             Fish (farmed)        5.41         5.65   13.63      7.89   \n",
            "42      Crustaceans (farmed)        7.41         8.04   26.87     14.71   \n",
            "\n",
            "    90th pctl.1  95th pctl.1  Year  \\\n",
            "0          2.31         3.07  2013   \n",
            "1          2.31         3.52  2013   \n",
            "2          1.64         1.77  2013   \n",
            "3          4.08         4.30  2013   \n",
            "4          8.77        10.26  2013   \n",
            "5          0.63         0.70  2013   \n",
            "6          2.11         2.24  2013   \n",
            "7          5.10         5.59  2013   \n",
            "8          2.42         2.64  2013   \n",
            "9          3.75         4.00  2013   \n",
            "10         1.67         1.87  2013   \n",
            "11         3.84        10.79  2013   \n",
            "12         5.81         6.15  2013   \n",
            "13         1.47         1.74  2013   \n",
            "14         5.55         7.27  2013   \n",
            "15        13.44        18.80  2013   \n",
            "16        12.04        13.07  2013   \n",
            "17         4.58         4.94  2013   \n",
            "18         4.64         7.18  2013   \n",
            "19         7.63        10.79  2013   \n",
            "20         5.95        12.62  2013   \n",
            "21         0.79         0.82  2013   \n",
            "22         0.56         0.61  2013   \n",
            "23         0.97         1.24  2013   \n",
            "24         0.97         1.13  2013   \n",
            "25         0.56         0.66  2013   \n",
            "26         1.18         1.30  2013   \n",
            "27         0.57         0.60  2013   \n",
            "28         2.67         2.91  2013   \n",
            "29         2.65         4.68  2013   \n",
            "30         2.93         2.96  2013   \n",
            "31        84.85        85.74  2013   \n",
            "32       134.70       257.48  2013   \n",
            "33       209.85       269.19  2013   \n",
            "34        50.90        56.68  2013   \n",
            "35        54.44        60.16  2013   \n",
            "36        22.26        23.79  2013   \n",
            "37        20.12        20.82  2013   \n",
            "38         4.83         7.00  2013   \n",
            "39        39.32        58.79  2013   \n",
            "40         8.39         8.49  2013   \n",
            "41        26.51        32.64  2013   \n",
            "42        52.12       115.09  2013   \n",
            "\n",
            "                                         Units          Measure  \n",
            "0   kg CO2eq/FU (IPCC 2013 incl. CC feedbacks)  2013 GHG Emiss.  \n",
            "1   kg CO2eq/FU (IPCC 2013 incl. CC feedbacks)  2013 GHG Emiss.  \n",
            "2   kg CO2eq/FU (IPCC 2013 incl. CC feedbacks)  2013 GHG Emiss.  \n",
            "3   kg CO2eq/FU (IPCC 2013 incl. CC feedbacks)  2013 GHG Emiss.  \n",
            "4   kg CO2eq/FU (IPCC 2013 incl. CC feedbacks)  2013 GHG Emiss.  \n",
            "5   kg CO2eq/FU (IPCC 2013 incl. CC feedbacks)  2013 GHG Emiss.  \n",
            "6   kg CO2eq/FU (IPCC 2013 incl. CC feedbacks)  2013 GHG Emiss.  \n",
            "7   kg CO2eq/FU (IPCC 2013 incl. CC feedbacks)  2013 GHG Emiss.  \n",
            "8   kg CO2eq/FU (IPCC 2013 incl. CC feedbacks)  2013 GHG Emiss.  \n",
            "9   kg CO2eq/FU (IPCC 2013 incl. CC feedbacks)  2013 GHG Emiss.  \n",
            "10  kg CO2eq/FU (IPCC 2013 incl. CC feedbacks)  2013 GHG Emiss.  \n",
            "11  kg CO2eq/FU (IPCC 2013 incl. CC feedbacks)  2013 GHG Emiss.  \n",
            "12  kg CO2eq/FU (IPCC 2013 incl. CC feedbacks)  2013 GHG Emiss.  \n",
            "13  kg CO2eq/FU (IPCC 2013 incl. CC feedbacks)  2013 GHG Emiss.  \n",
            "14  kg CO2eq/FU (IPCC 2013 incl. CC feedbacks)  2013 GHG Emiss.  \n",
            "15  kg CO2eq/FU (IPCC 2013 incl. CC feedbacks)  2013 GHG Emiss.  \n",
            "16  kg CO2eq/FU (IPCC 2013 incl. CC feedbacks)  2013 GHG Emiss.  \n",
            "17  kg CO2eq/FU (IPCC 2013 incl. CC feedbacks)  2013 GHG Emiss.  \n",
            "18  kg CO2eq/FU (IPCC 2013 incl. CC feedbacks)  2013 GHG Emiss.  \n",
            "19  kg CO2eq/FU (IPCC 2013 incl. CC feedbacks)  2013 GHG Emiss.  \n",
            "20  kg CO2eq/FU (IPCC 2013 incl. CC feedbacks)  2013 GHG Emiss.  \n",
            "21  kg CO2eq/FU (IPCC 2013 incl. CC feedbacks)  2013 GHG Emiss.  \n",
            "22  kg CO2eq/FU (IPCC 2013 incl. CC feedbacks)  2013 GHG Emiss.  \n",
            "23  kg CO2eq/FU (IPCC 2013 incl. CC feedbacks)  2013 GHG Emiss.  \n",
            "24  kg CO2eq/FU (IPCC 2013 incl. CC feedbacks)  2013 GHG Emiss.  \n",
            "25  kg CO2eq/FU (IPCC 2013 incl. CC feedbacks)  2013 GHG Emiss.  \n",
            "26  kg CO2eq/FU (IPCC 2013 incl. CC feedbacks)  2013 GHG Emiss.  \n",
            "27  kg CO2eq/FU (IPCC 2013 incl. CC feedbacks)  2013 GHG Emiss.  \n",
            "28  kg CO2eq/FU (IPCC 2013 incl. CC feedbacks)  2013 GHG Emiss.  \n",
            "29  kg CO2eq/FU (IPCC 2013 incl. CC feedbacks)  2013 GHG Emiss.  \n",
            "30  kg CO2eq/FU (IPCC 2013 incl. CC feedbacks)  2013 GHG Emiss.  \n",
            "31  kg CO2eq/FU (IPCC 2013 incl. CC feedbacks)  2013 GHG Emiss.  \n",
            "32  kg CO2eq/FU (IPCC 2013 incl. CC feedbacks)  2013 GHG Emiss.  \n",
            "33  kg CO2eq/FU (IPCC 2013 incl. CC feedbacks)  2013 GHG Emiss.  \n",
            "34  kg CO2eq/FU (IPCC 2013 incl. CC feedbacks)  2013 GHG Emiss.  \n",
            "35  kg CO2eq/FU (IPCC 2013 incl. CC feedbacks)  2013 GHG Emiss.  \n",
            "36  kg CO2eq/FU (IPCC 2013 incl. CC feedbacks)  2013 GHG Emiss.  \n",
            "37  kg CO2eq/FU (IPCC 2013 incl. CC feedbacks)  2013 GHG Emiss.  \n",
            "38  kg CO2eq/FU (IPCC 2013 incl. CC feedbacks)  2013 GHG Emiss.  \n",
            "39  kg CO2eq/FU (IPCC 2013 incl. CC feedbacks)  2013 GHG Emiss.  \n",
            "40  kg CO2eq/FU (IPCC 2013 incl. CC feedbacks)  2013 GHG Emiss.  \n",
            "41  kg CO2eq/FU (IPCC 2013 incl. CC feedbacks)  2013 GHG Emiss.  \n",
            "42  kg CO2eq/FU (IPCC 2013 incl. CC feedbacks)  2013 GHG Emiss.  \n"
          ]
        }
      ]
    },
    {
      "cell_type": "markdown",
      "source": [
        "# Part 2: Orienting\n",
        "Our data is loaded cleanly! Now it's time to understand what it is representing. Answer the prompts below with code and/or text.\n"
      ],
      "metadata": {
        "id": "RqgcStNk3PEe"
      }
    },
    {
      "cell_type": "markdown",
      "source": [
        "1. What do the columns represent? Feel free to check the original links for info."
      ],
      "metadata": {
        "id": "oGwUr6iPebxu"
      }
    },
    {
      "cell_type": "markdown",
      "source": [
        "Product: the food product being evaluated\n",
        "5th pctl.1: The 5th percentile of greenhouse gas emissions for the given food product.\n",
        "10th pctl.1: The 10th percentile, another lower-end emissions value.\n",
        "Mean.1:\n",
        "Median.1: The median greenhouse gas emissions, which is the middle value when emissions data is ordered.\n",
        "90th pctl.1: The 90th percentile, representing the upper-end emissions value.\n",
        "95th pctl.1: The 95th percentile, representing the extreme upper bound of emissions.\n",
        "Year: The year the data represents, which is 2013 for all entries.\n",
        "Units: The scientific unit of measurement for the greenhouse gas emissions data, expressed as kg CO2eq/FU (kilograms of carbon dioxide equivalent per functional unit).\n",
        "Measure: A human-readable label for the data, describing that the emissions represent \"2013 GHG Emiss.\"\n"
      ],
      "metadata": {
        "id": "pzlugitgl2AM"
      }
    },
    {
      "cell_type": "markdown",
      "source": [
        "2. What are the dimensions of the data?"
      ],
      "metadata": {
        "id": "NzA-Gl-IeGnt"
      }
    },
    {
      "cell_type": "markdown",
      "source": [
        "Entity: food product\n",
        "Year: 2013\n",
        "GHG Emissions (kg CO2eq/FU, IPCC 2013 incl. CC feedbacks)\n"
      ],
      "metadata": {
        "id": "eLCjaNIimeTr"
      }
    },
    {
      "cell_type": "markdown",
      "source": [
        "3. What is the type of each column. Do any columns have null values?"
      ],
      "metadata": {
        "id": "lz1b3WPBf0XQ"
      }
    },
    {
      "cell_type": "markdown",
      "source": [
        "Entity: object (no null values)\n",
        "Year: int64 (no null values)\n",
        "GHG emissions per kilogram (Poore & Nemecek, 2018): float64 (no null values)"
      ],
      "metadata": {
        "id": "NV9H5nO6nRQz"
      }
    },
    {
      "cell_type": "markdown",
      "source": [
        "4. How many unique food items are measured?"
      ],
      "metadata": {
        "id": "0Vz6D-e1EETI"
      }
    },
    {
      "cell_type": "code",
      "source": [
        "df.rename(columns={'Unnamed: 0': 'Product'}, inplace=True)\n",
        "print(df.columns)\n",
        "unique_food_items = df['Product'].nunique()\n",
        "print(f\"Number of unique food items: {unique_food_items}\")\n"
      ],
      "metadata": {
        "id": "omT0ZJdLngxx",
        "outputId": "df5d5650-ac95-4f1e-81f4-b1451c98f8f1",
        "colab": {
          "base_uri": "https://localhost:8080/"
        }
      },
      "execution_count": 44,
      "outputs": [
        {
          "output_type": "stream",
          "name": "stdout",
          "text": [
            "Index(['Product', 'Land Use (m2/FU)', 'Unnamed: 2', 'Unnamed: 3', 'Unnamed: 4',\n",
            "       'Unnamed: 5', 'Unnamed: 6',\n",
            "       'GHG Emissions (kg CO2eq/FU, IPCC 2013 incl. CC feedbacks)',\n",
            "       'Unnamed: 8', 'Unnamed: 9', 'Unnamed: 10', 'Unnamed: 11', 'Unnamed: 12',\n",
            "       'GHG Emissions (kg CO2eq/FU, IPCC 2007)', 'Unnamed: 14', 'Unnamed: 15',\n",
            "       'Unnamed: 16', 'Unnamed: 17', 'Unnamed: 18',\n",
            "       'Acidifying Emissions (g SO2eq/FU, CML2 Baseline)', 'Unnamed: 20',\n",
            "       'Unnamed: 21', 'Unnamed: 22', 'Unnamed: 23', 'Unnamed: 24',\n",
            "       'Eutrophying Emissions (g PO43-eq/FU, CML2 Baseline)', 'Unnamed: 26',\n",
            "       'Unnamed: 27', 'Unnamed: 28', 'Unnamed: 29', 'Unnamed: 30',\n",
            "       'Freshwater Withdrawals (L/FU)', 'Unnamed: 32', 'Unnamed: 33',\n",
            "       'Unnamed: 34', 'Unnamed: 35', 'Unnamed: 36',\n",
            "       'Stress-Weighted Water Use (L/FU)', 'Unnamed: 38', 'Unnamed: 39',\n",
            "       'Unnamed: 40', 'Unnamed: 41', 'Unnamed: 42', 'Land Use (m2/FU).1',\n",
            "       'Unnamed: 44', 'GHG (kg CO2eq/FU, IPCC 2013 incl. CC feedbacks)',\n",
            "       'Unnamed: 46', 'Acid. (kg SO2eq/FU, CML2 Baseline)', 'Unnamed: 48',\n",
            "       'Eutr. (kg PO43-eq/FU, CML2 Baseline)', 'Unnamed: 50',\n",
            "       'Fresh W. (L/FU)', 'Unnamed: 52', 'Strs. W. WU (L/FU)', 'Unnamed: 54'],\n",
            "      dtype='object')\n",
            "Number of unique food items: 45\n"
          ]
        }
      ]
    },
    {
      "cell_type": "markdown",
      "source": [
        "45"
      ],
      "metadata": {
        "id": "-xyLcbEtpX25"
      }
    },
    {
      "cell_type": "markdown",
      "source": [
        "5. What are the unique food items that are measured?"
      ],
      "metadata": {
        "id": "ilvwhMdmb74a"
      }
    },
    {
      "cell_type": "code",
      "source": [
        "unique_food_items = df['Product'].unique()\n",
        "print(\"Unique food items measured:\")\n",
        "print(unique_food_items)"
      ],
      "metadata": {
        "id": "Z68S1ZMypR1b",
        "outputId": "78640b1f-467c-4b98-f36a-9cc83c682d67",
        "colab": {
          "base_uri": "https://localhost:8080/"
        }
      },
      "execution_count": 46,
      "outputs": [
        {
          "output_type": "stream",
          "name": "stdout",
          "text": [
            "Unique food items measured:\n",
            "['Product' 'Wheat & Rye (Bread)' 'Maize (Meal)' 'Barley (Beer)' 'Oatmeal'\n",
            " 'Rice' 'Potatoes' 'Cassava' 'Cane Sugar' 'Beet Sugar' 'Other Pulses'\n",
            " 'Peas' 'Nuts' 'Groundnuts' 'Soymilk' 'Tofu' 'Soybean Oil' 'Palm Oil'\n",
            " 'Sunflower Oil' 'Rapeseed Oil' 'Olive Oil' 'Tomatoes' 'Onions & Leeks'\n",
            " 'Root Vegetables' 'Brassicas' 'Other Vegetables' 'Citrus Fruit' 'Bananas'\n",
            " 'Apples' 'Berries & Grapes' 'Wine' 'Other Fruit' 'Coffee'\n",
            " 'Dark Chocolate' 'Bovine Meat (beef herd)' 'Bovine Meat (dairy herd)'\n",
            " 'Lamb & Mutton' 'Pig Meat' 'Poultry Meat' 'Milk' 'Cheese' 'Eggs'\n",
            " 'Fish (farmed)' 'Crustaceans (farmed)' nan\n",
            " \"Note: See table S1 for definitions of retail weight functional units; table S2 for definitions of indicators; Materials and Methods Section 9 for a summary of the resampling and randomization; and 'LCA Meta-Analysis of Food Products - Full Model v0' available from the link in the manuscript\"]\n"
          ]
        }
      ]
    },
    {
      "cell_type": "markdown",
      "source": [
        "# Part 3: Column Operations\n",
        "What is this data telling us about food emissions?"
      ],
      "metadata": {
        "id": "I0cPecgUD0Wd"
      }
    },
    {
      "cell_type": "markdown",
      "source": [
        "- Emissions vary significantly based on food types, animal food items have higher GHG emissions than plants"
      ],
      "metadata": {
        "id": "4cJuXxuop6JF"
      }
    },
    {
      "cell_type": "markdown",
      "source": [
        "1. What is the highest mean GHG emissions (per FU) of a food item in this data?"
      ],
      "metadata": {
        "id": "llsvGgw9fka1"
      }
    },
    {
      "cell_type": "code",
      "source": [
        "df['Unnamed: 9'] = pd.to_numeric(df['Unnamed: 9'], errors='coerce')\n",
        "highest_mean_emission = df.loc[df['Unnamed: 9'].idxmax()]\n",
        "print(\"Food item with the highest mean GHG emissions:\")\n",
        "print(highest_mean_emission[['Product', 'Unnamed: 9']])"
      ],
      "metadata": {
        "id": "d4jnGnhtqTVB",
        "outputId": "f95eceb7-c8f4-4d16-d2b5-deb7a92eda42",
        "colab": {
          "base_uri": "https://localhost:8080/"
        }
      },
      "execution_count": 56,
      "outputs": [
        {
          "output_type": "stream",
          "name": "stdout",
          "text": [
            "Food item with the highest mean GHG emissions:\n",
            "Product       Bovine Meat (beef herd)\n",
            "Unnamed: 9                      99.48\n",
            "Name: 34, dtype: object\n"
          ]
        }
      ]
    },
    {
      "cell_type": "markdown",
      "source": [
        "2. Which food product has that hightest mean GHG emission? Display the entire data row for that item."
      ],
      "metadata": {
        "id": "HSAtz--lgyy1"
      }
    },
    {
      "cell_type": "code",
      "source": [
        "df['Unnamed: 9'] = pd.to_numeric(df['Unnamed: 9'], errors='coerce')\n",
        "highest_mean_emission = df.loc[df['Unnamed: 9'].idxmax()]\n",
        "print(\"Food item with the highest mean GHG emissions:\")\n",
        "print(highest_mean_emission[['Product', 'Unnamed: 9']])"
      ],
      "metadata": {
        "id": "zob-0LCGs37B",
        "outputId": "97fc1175-fb33-4009-b4af-d3283a1b5ecb",
        "colab": {
          "base_uri": "https://localhost:8080/"
        }
      },
      "execution_count": 58,
      "outputs": [
        {
          "output_type": "stream",
          "name": "stdout",
          "text": [
            "Food item with the highest mean GHG emissions:\n",
            "Product       Bovine Meat (beef herd)\n",
            "Unnamed: 9                      99.48\n",
            "Name: 34, dtype: object\n"
          ]
        }
      ]
    },
    {
      "cell_type": "markdown",
      "source": [
        "3. What are the top 10 food items in this data with the highest median GHG emission? Display the entire data rows for those items."
      ],
      "metadata": {
        "id": "q2ApNC0rniXf"
      }
    },
    {
      "cell_type": "code",
      "source": [
        "\n",
        "df['Unnamed: 10'] = pd.to_numeric(df['Unnamed: 10'], errors='coerce')\n",
        "top_10_median_ghg = df.sort_values(by='Unnamed: 10', ascending=False).head(10)\n",
        "\n",
        "# Display the top 10 rows\n",
        "print(top_10_median_ghg)\n"
      ],
      "metadata": {
        "id": "fA1eFAgvucob",
        "outputId": "90fb0151-48ba-49f3-cb55-f74fef5d6f9a",
        "colab": {
          "base_uri": "https://localhost:8080/"
        }
      },
      "execution_count": 65,
      "outputs": [
        {
          "output_type": "stream",
          "name": "stdout",
          "text": [
            "                     Product Land Use (m2/FU) Unnamed: 2 Unnamed: 3  \\\n",
            "34   Bovine Meat (beef herd)            70.41      82.84     326.21   \n",
            "36             Lamb & Mutton            47.85      60.06     369.81   \n",
            "35  Bovine Meat (dairy herd)            12.27      14.39      43.24   \n",
            "40                    Cheese             7.86       9.55      87.79   \n",
            "43      Crustaceans (farmed)              0.6       0.61       2.97   \n",
            "37                  Pig Meat             7.39       7.76      17.36   \n",
            "32                    Coffee              8.3       8.44      21.62   \n",
            "42             Fish (farmed)              0.3       0.82       8.41   \n",
            "38              Poultry Meat             6.46       6.65      12.22   \n",
            "17                  Palm Oil             1.37       1.67       2.42   \n",
            "\n",
            "   Unnamed: 4 Unnamed: 5 Unnamed: 6  \\\n",
            "34     170.37     735.09      910.1   \n",
            "36     127.41     442.34     724.65   \n",
            "35      25.94      64.12     106.37   \n",
            "40      20.18     239.21     323.45   \n",
            "43       0.82       5.19        5.2   \n",
            "37      13.44      31.11      34.09   \n",
            "32       11.9      40.28      40.66   \n",
            "42        5.6       10.5      26.26   \n",
            "38      11.01      16.02       20.4   \n",
            "17       2.39       2.99       3.29   \n",
            "\n",
            "   GHG Emissions (kg CO2eq/FU, IPCC 2013 incl. CC feedbacks) Unnamed: 8  \\\n",
            "34                                              37.57             40.37   \n",
            "36                                               23.7             24.52   \n",
            "35                                              14.93             17.94   \n",
            "40                                              10.21             10.92   \n",
            "43                                               7.41              8.04   \n",
            "37                                               6.91              7.41   \n",
            "32                                               4.35               5.2   \n",
            "42                                               5.41              5.65   \n",
            "38                                               3.95              4.18   \n",
            "17                                               2.78              3.61   \n",
            "\n",
            "    Unnamed: 9  ...  GHG (kg CO2eq/FU, IPCC 2013 incl. CC feedbacks)  \\\n",
            "34       99.48  ...                                        35.062785   \n",
            "36       39.72  ...                                        21.781948   \n",
            "35       33.30  ...                                         9.567208   \n",
            "40       23.88  ...                                         9.026556   \n",
            "43       26.87  ...                                         8.325215   \n",
            "37       12.31  ...                                         6.635532   \n",
            "32       28.53  ...                                         4.727222   \n",
            "42       13.63  ...                                         5.205339   \n",
            "38        9.87  ...                                         4.033998   \n",
            "17        7.32  ...                                        -0.266883   \n",
            "\n",
            "   Unnamed: 46 Acid. (kg SO2eq/FU, CML2 Baseline)  Unnamed: 48  \\\n",
            "34  432.047259                          59.778823   807.636218   \n",
            "36   72.142416                           81.43016   478.464223   \n",
            "35   73.921818                         136.277545  1155.193201   \n",
            "40  150.519031                            37.4553   290.405757   \n",
            "43   99.042589                          63.823094   487.796759   \n",
            "37   27.645756                          57.888883   467.297798   \n",
            "32   84.586192                          33.351264   181.564745   \n",
            "42   87.778273                          27.847193     239.0826   \n",
            "38   47.701887                          29.987429   591.814061   \n",
            "17   14.173021                            6.81138    22.546243   \n",
            "\n",
            "   Eutr. (kg PO43-eq/FU, CML2 Baseline)  Unnamed: 50 Fresh W. (L/FU)  \\\n",
            "34                            80.825249   669.543547      101.045738   \n",
            "36                            23.484294    205.46031       86.273866   \n",
            "35                             83.19075  2637.267651      187.416068   \n",
            "40                            20.363466   248.506898       60.252908   \n",
            "43                            68.557067  1147.461202               0   \n",
            "37                            29.427885   236.701373       67.364324   \n",
            "32                            15.575616    268.79595       10.405013   \n",
            "42                            18.391414  3505.641364      135.949194   \n",
            "38                            22.912939   305.697007       19.121726   \n",
            "17                             1.898456    17.100055        5.876381   \n",
            "\n",
            "      Unnamed: 52 Strs. W. WU (L/FU)     Unnamed: 54  \n",
            "34   26951.042253         170.361312  1569705.822849  \n",
            "36    9338.017854         995.283212   689108.346254  \n",
            "35    9328.980045         267.387517   233168.426406  \n",
            "40    45167.22543         136.836841   969209.819233  \n",
            "43   34806.784616                  0  1308548.040675  \n",
            "37    6318.158326          51.630386   236070.732342  \n",
            "32      38.279714            5.08441      811.174928  \n",
            "42  110939.557394         786.974746   182625.096274  \n",
            "38    4710.253379          21.131728   214879.147983  \n",
            "17       7.413145           3.682467       67.222093  \n",
            "\n",
            "[10 rows x 55 columns]\n"
          ]
        }
      ]
    },
    {
      "cell_type": "markdown",
      "source": [
        "Bovine Meat (beef herd)\n",
        "Lamb & Mutton\n",
        "Bovine Meat (dairy herd)\n",
        "Cheese\n",
        "Crustaceans (farmed)\n",
        "Pig Meat\n",
        "Coffee\n",
        "Fish (farmed)\n",
        "Poultry Meat\n",
        "Palm Oil"
      ],
      "metadata": {
        "id": "O_4S1qZnvHm4"
      }
    },
    {
      "cell_type": "markdown",
      "source": [
        "4. What is the lowest mean GHG emissions of a food item in this data?"
      ],
      "metadata": {
        "id": "i_IouSeihPwS"
      }
    },
    {
      "cell_type": "code",
      "source": [
        "lowest_mean_emission = df.loc[df['Unnamed: 9'].idxmin()]\n",
        "print(lowest_mean_emission)"
      ],
      "metadata": {
        "id": "z5sHSzXFvXbG",
        "outputId": "e5c386eb-08f5-45bf-b7a9-915aa3366a8a",
        "colab": {
          "base_uri": "https://localhost:8080/"
        }
      },
      "execution_count": 67,
      "outputs": [
        {
          "output_type": "stream",
          "name": "stdout",
          "text": [
            "Product                                                      Citrus Fruit\n",
            "Land Use (m2/FU)                                                     0.29\n",
            "Unnamed: 2                                                           0.35\n",
            "Unnamed: 3                                                           0.86\n",
            "Unnamed: 4                                                           0.68\n",
            "Unnamed: 5                                                           1.75\n",
            "Unnamed: 6                                                           1.75\n",
            "GHG Emissions (kg CO2eq/FU, IPCC 2013 incl. CC feedbacks)            0.01\n",
            "Unnamed: 8                                                           0.08\n",
            "Unnamed: 9                                                           0.39\n",
            "Unnamed: 10                                                          0.34\n",
            "Unnamed: 11                                                          0.56\n",
            "Unnamed: 12                                                          0.66\n",
            "GHG Emissions (kg CO2eq/FU, IPCC 2007)                               0.01\n",
            "Unnamed: 14                                                          0.08\n",
            "Unnamed: 15                                                          0.37\n",
            "Unnamed: 16                                                          0.34\n",
            "Unnamed: 17                                                          0.57\n",
            "Unnamed: 18                                                          0.67\n",
            "Acidifying Emissions (g SO2eq/FU, CML2 Baseline)                     2.19\n",
            "Unnamed: 20                                                          2.62\n",
            "Unnamed: 21                                                          4.04\n",
            "Unnamed: 22                                                          3.75\n",
            "Unnamed: 23                                                          6.01\n",
            "Unnamed: 24                                                          6.19\n",
            "Eutrophying Emissions (g PO43-eq/FU, CML2 Baseline)                  0.31\n",
            "Unnamed: 26                                                          0.33\n",
            "Unnamed: 27                                                          2.24\n",
            "Unnamed: 28                                                          1.72\n",
            "Unnamed: 29                                                          6.48\n",
            "Unnamed: 30                                                          6.48\n",
            "Freshwater Withdrawals (L/FU)                                           0\n",
            "Unnamed: 32                                                             0\n",
            "Unnamed: 33                                                          82.7\n",
            "Unnamed: 34                                                          37.4\n",
            "Unnamed: 35                                                         185.3\n",
            "Unnamed: 36                                                         244.7\n",
            "Stress-Weighted Water Use (L/FU)                                        0\n",
            "Unnamed: 38                                                             0\n",
            "Unnamed: 39                                                        4662.7\n",
            "Unnamed: 40                                                        1345.5\n",
            "Unnamed: 41                                                       17560.6\n",
            "Unnamed: 42                                                       21646.7\n",
            "Land Use (m2/FU).1                                                0.29198\n",
            "Unnamed: 44                                                      1.753912\n",
            "GHG (kg CO2eq/FU, IPCC 2013 incl. CC feedbacks)                  0.019096\n",
            "Unnamed: 46                                                      2.655811\n",
            "Acid. (kg SO2eq/FU, CML2 Baseline)                               1.727813\n",
            "Unnamed: 48                                                      6.427327\n",
            "Eutr. (kg PO43-eq/FU, CML2 Baseline)                             0.250664\n",
            "Unnamed: 50                                                      6.478692\n",
            "Fresh W. (L/FU)                                                         0\n",
            "Unnamed: 52                                                    517.825561\n",
            "Strs. W. WU (L/FU)                                                      0\n",
            "Unnamed: 54                                                  46578.869715\n",
            "Name: 26, dtype: object\n"
          ]
        }
      ]
    },
    {
      "cell_type": "markdown",
      "source": [
        "5. Which food product has that lowest mean GHG emission? Display the entire data row for that item."
      ],
      "metadata": {
        "id": "SSAO8kyghjmq"
      }
    },
    {
      "cell_type": "code",
      "source": [
        "lowest_mean_ghg_row = df.loc[df['Unnamed: 9'].idxmin()]\n",
        "print(lowest_mean_ghg_row)\n"
      ],
      "metadata": {
        "id": "i-XUyAAmv6Zb",
        "outputId": "2717c6ee-50d7-4ca2-acab-42001cb7b4bf",
        "colab": {
          "base_uri": "https://localhost:8080/"
        }
      },
      "execution_count": 70,
      "outputs": [
        {
          "output_type": "stream",
          "name": "stdout",
          "text": [
            "Product                                                      Citrus Fruit\n",
            "Land Use (m2/FU)                                                     0.29\n",
            "Unnamed: 2                                                           0.35\n",
            "Unnamed: 3                                                           0.86\n",
            "Unnamed: 4                                                           0.68\n",
            "Unnamed: 5                                                           1.75\n",
            "Unnamed: 6                                                           1.75\n",
            "GHG Emissions (kg CO2eq/FU, IPCC 2013 incl. CC feedbacks)            0.01\n",
            "Unnamed: 8                                                           0.08\n",
            "Unnamed: 9                                                           0.39\n",
            "Unnamed: 10                                                          0.34\n",
            "Unnamed: 11                                                          0.56\n",
            "Unnamed: 12                                                          0.66\n",
            "GHG Emissions (kg CO2eq/FU, IPCC 2007)                               0.01\n",
            "Unnamed: 14                                                          0.08\n",
            "Unnamed: 15                                                          0.37\n",
            "Unnamed: 16                                                          0.34\n",
            "Unnamed: 17                                                          0.57\n",
            "Unnamed: 18                                                          0.67\n",
            "Acidifying Emissions (g SO2eq/FU, CML2 Baseline)                     2.19\n",
            "Unnamed: 20                                                          2.62\n",
            "Unnamed: 21                                                          4.04\n",
            "Unnamed: 22                                                          3.75\n",
            "Unnamed: 23                                                          6.01\n",
            "Unnamed: 24                                                          6.19\n",
            "Eutrophying Emissions (g PO43-eq/FU, CML2 Baseline)                  0.31\n",
            "Unnamed: 26                                                          0.33\n",
            "Unnamed: 27                                                          2.24\n",
            "Unnamed: 28                                                          1.72\n",
            "Unnamed: 29                                                          6.48\n",
            "Unnamed: 30                                                          6.48\n",
            "Freshwater Withdrawals (L/FU)                                           0\n",
            "Unnamed: 32                                                             0\n",
            "Unnamed: 33                                                          82.7\n",
            "Unnamed: 34                                                          37.4\n",
            "Unnamed: 35                                                         185.3\n",
            "Unnamed: 36                                                         244.7\n",
            "Stress-Weighted Water Use (L/FU)                                        0\n",
            "Unnamed: 38                                                             0\n",
            "Unnamed: 39                                                        4662.7\n",
            "Unnamed: 40                                                        1345.5\n",
            "Unnamed: 41                                                       17560.6\n",
            "Unnamed: 42                                                       21646.7\n",
            "Land Use (m2/FU).1                                                0.29198\n",
            "Unnamed: 44                                                      1.753912\n",
            "GHG (kg CO2eq/FU, IPCC 2013 incl. CC feedbacks)                  0.019096\n",
            "Unnamed: 46                                                      2.655811\n",
            "Acid. (kg SO2eq/FU, CML2 Baseline)                               1.727813\n",
            "Unnamed: 48                                                      6.427327\n",
            "Eutr. (kg PO43-eq/FU, CML2 Baseline)                             0.250664\n",
            "Unnamed: 50                                                      6.478692\n",
            "Fresh W. (L/FU)                                                         0\n",
            "Unnamed: 52                                                    517.825561\n",
            "Strs. W. WU (L/FU)                                                      0\n",
            "Unnamed: 54                                                  46578.869715\n",
            "Name: 26, dtype: object\n"
          ]
        }
      ]
    },
    {
      "cell_type": "markdown",
      "source": [
        "6. Looking at the mean and median GHG emissions per food product is one thing, but suppose we are interested in the very edge of the range of recorded GHG emissions in this data.\n",
        "\n",
        "  What food item has the smallest 5th percentile for GHG emission in this data? Display that row of data."
      ],
      "metadata": {
        "id": "LElkC13Jhx1J"
      }
    },
    {
      "cell_type": "code",
      "source": [
        "df['GHG Emissions (kg CO2eq/FU, IPCC 2013 incl. CC feedbacks)'] = pd.to_numeric(\n",
        "    df['GHG Emissions (kg CO2eq/FU, IPCC 2013 incl. CC feedbacks)'], errors='coerce'\n",
        ")\n",
        "lowest_5th_percentile_row = df.loc[df['GHG Emissions (kg CO2eq/FU, IPCC 2013 incl. CC feedbacks)'].idxmin()]\n",
        "print(lowest_5th_percentile_row)"
      ],
      "metadata": {
        "id": "YDn6y1EzwQpt",
        "outputId": "44c4f825-0f4c-42cf-cec8-693e8085e62d",
        "colab": {
          "base_uri": "https://localhost:8080/"
        }
      },
      "execution_count": 79,
      "outputs": [
        {
          "output_type": "stream",
          "name": "stdout",
          "text": [
            "Product                                                               Nuts\n",
            "Land Use (m2/FU)                                                      4.15\n",
            "Unnamed: 2                                                            4.49\n",
            "Unnamed: 3                                                           12.96\n",
            "Unnamed: 4                                                            8.73\n",
            "Unnamed: 5                                                           26.59\n",
            "Unnamed: 6                                                           26.59\n",
            "GHG Emissions (kg CO2eq/FU, IPCC 2013 incl. CC feedbacks)            -4.02\n",
            "Unnamed: 8                                                           -3.65\n",
            "Unnamed: 9                                                            0.43\n",
            "Unnamed: 10                                                          -1.33\n",
            "Unnamed: 11                                                           3.84\n",
            "Unnamed: 12                                                          10.79\n",
            "GHG Emissions (kg CO2eq/FU, IPCC 2007)                               -3.99\n",
            "Unnamed: 14                                                          -3.68\n",
            "Unnamed: 15                                                           0.37\n",
            "Unnamed: 16                                                          -1.32\n",
            "Unnamed: 17                                                           3.84\n",
            "Unnamed: 18                                                           10.2\n",
            "Acidifying Emissions (g SO2eq/FU, CML2 Baseline)                     19.05\n",
            "Unnamed: 20                                                          20.55\n",
            "Unnamed: 21                                                          45.15\n",
            "Unnamed: 22                                                          35.03\n",
            "Unnamed: 23                                                          66.96\n",
            "Unnamed: 24                                                           95.9\n",
            "Eutrophying Emissions (g PO43-eq/FU, CML2 Baseline)                   6.64\n",
            "Unnamed: 26                                                           7.99\n",
            "Unnamed: 27                                                          19.15\n",
            "Unnamed: 28                                                          14.47\n",
            "Unnamed: 29                                                          40.03\n",
            "Unnamed: 30                                                          47.15\n",
            "Freshwater Withdrawals (L/FU)                                            0\n",
            "Unnamed: 32                                                              0\n",
            "Unnamed: 33                                                         4133.8\n",
            "Unnamed: 34                                                         1823.3\n",
            "Unnamed: 35                                                         9106.9\n",
            "Unnamed: 36                                                        11383.5\n",
            "Stress-Weighted Water Use (L/FU)                                         0\n",
            "Unnamed: 38                                                              0\n",
            "Unnamed: 39                                                       229889.8\n",
            "Unnamed: 40                                                       129364.3\n",
            "Unnamed: 41                                                       646134.5\n",
            "Unnamed: 42                                                       807659.3\n",
            "Land Use (m2/FU).1                                                3.781756\n",
            "Unnamed: 44                                                      46.009636\n",
            "GHG (kg CO2eq/FU, IPCC 2013 incl. CC feedbacks)                  -8.088359\n",
            "Unnamed: 46                                                      23.677203\n",
            "Acid. (kg SO2eq/FU, CML2 Baseline)                                10.92617\n",
            "Unnamed: 48                                                     119.175042\n",
            "Eutr. (kg PO43-eq/FU, CML2 Baseline)                              5.344289\n",
            "Unnamed: 50                                                      90.741576\n",
            "Fresh W. (L/FU)                                                          0\n",
            "Unnamed: 52                                                   11383.532966\n",
            "Strs. W. WU (L/FU)                                                       0\n",
            "Unnamed: 54                                                  807659.273424\n",
            "Name: 12, dtype: object\n"
          ]
        }
      ]
    },
    {
      "cell_type": "code",
      "source": [],
      "metadata": {
        "id": "GYBu8bmDwX32"
      },
      "execution_count": null,
      "outputs": []
    },
    {
      "cell_type": "markdown",
      "source": [
        "# Part 4: Filtering\n",
        "\n",
        "Some of the values above look suspicious. Let's investigate further."
      ],
      "metadata": {
        "id": "zgdjz3hQFoSL"
      }
    },
    {
      "cell_type": "markdown",
      "source": [
        "1. Negative emissions values are somewhat unexpected. Check if other food items in this data have a negative value for the 5th percentile of emissions."
      ],
      "metadata": {
        "id": "0ScesL4Ni5vw"
      }
    },
    {
      "cell_type": "code",
      "source": [
        "negative_5th_percentile = df[df['GHG Emissions (kg CO2eq/FU, IPCC 2013 incl. CC feedbacks)'] < 0]\n",
        "print(negative_5th_percentile)\n"
      ],
      "metadata": {
        "id": "Td5uiKYuyEdX",
        "outputId": "51207871-ac18-49c1-cf2c-7a57257cac02",
        "colab": {
          "base_uri": "https://localhost:8080/"
        }
      },
      "execution_count": 81,
      "outputs": [
        {
          "output_type": "stream",
          "name": "stdout",
          "text": [
            "           Product Land Use (m2/FU) Unnamed: 2 Unnamed: 3 Unnamed: 4  \\\n",
            "12            Nuts             4.15       4.49      12.96       8.73   \n",
            "33  Dark Chocolate            21.57       34.7      68.96      53.83   \n",
            "\n",
            "   Unnamed: 5 Unnamed: 6  \\\n",
            "12      26.59      26.59   \n",
            "33     123.26     144.66   \n",
            "\n",
            "    GHG Emissions (kg CO2eq/FU, IPCC 2013 incl. CC feedbacks) Unnamed: 8  \\\n",
            "12                                              -4.02              -3.65   \n",
            "33                                              -3.95               -0.1   \n",
            "\n",
            "    Unnamed: 9  ...  GHG (kg CO2eq/FU, IPCC 2013 incl. CC feedbacks)  \\\n",
            "12        0.43  ...                                        -8.088359   \n",
            "33       46.65  ...                                        -3.909216   \n",
            "\n",
            "   Unnamed: 46 Acid. (kg SO2eq/FU, CML2 Baseline) Unnamed: 48  \\\n",
            "12   23.677203                           10.92617  119.175042   \n",
            "33  257.945181                           6.002274  167.499601   \n",
            "\n",
            "   Eutr. (kg PO43-eq/FU, CML2 Baseline) Unnamed: 50 Fresh W. (L/FU)  \\\n",
            "12                             5.344289   90.741576               0   \n",
            "33                             3.384082  237.740632        6.681145   \n",
            "\n",
            "     Unnamed: 52 Strs. W. WU (L/FU)    Unnamed: 54  \n",
            "12  11383.532966                  0  807659.273424  \n",
            "33  35511.362436           5.146018  164085.681524  \n",
            "\n",
            "[2 rows x 55 columns]\n"
          ]
        }
      ]
    },
    {
      "cell_type": "markdown",
      "source": [
        "2. Check if there are negative values in any of the other data fields. Display all rows that have any negative emissions values."
      ],
      "metadata": {
        "id": "xH6T3QK-jogi"
      }
    },
    {
      "cell_type": "code",
      "source": [
        "\n",
        "negative_values_rows = df[(df.select_dtypes(include='number') < 0).any(axis=1)]\n",
        "\n",
        "\n",
        "print(negative_values_rows)\n"
      ],
      "metadata": {
        "id": "-TnKZ4dQzEyI",
        "outputId": "4654c54c-451d-4188-ad7d-bbc425df471e",
        "colab": {
          "base_uri": "https://localhost:8080/"
        }
      },
      "execution_count": 83,
      "outputs": [
        {
          "output_type": "stream",
          "name": "stdout",
          "text": [
            "           Product Land Use (m2/FU) Unnamed: 2 Unnamed: 3 Unnamed: 4  \\\n",
            "12            Nuts             4.15       4.49      12.96       8.73   \n",
            "33  Dark Chocolate            21.57       34.7      68.96      53.83   \n",
            "\n",
            "   Unnamed: 5 Unnamed: 6  \\\n",
            "12      26.59      26.59   \n",
            "33     123.26     144.66   \n",
            "\n",
            "    GHG Emissions (kg CO2eq/FU, IPCC 2013 incl. CC feedbacks) Unnamed: 8  \\\n",
            "12                                              -4.02              -3.65   \n",
            "33                                              -3.95               -0.1   \n",
            "\n",
            "    Unnamed: 9  ...  GHG (kg CO2eq/FU, IPCC 2013 incl. CC feedbacks)  \\\n",
            "12        0.43  ...                                        -8.088359   \n",
            "33       46.65  ...                                        -3.909216   \n",
            "\n",
            "   Unnamed: 46 Acid. (kg SO2eq/FU, CML2 Baseline) Unnamed: 48  \\\n",
            "12   23.677203                           10.92617  119.175042   \n",
            "33  257.945181                           6.002274  167.499601   \n",
            "\n",
            "   Eutr. (kg PO43-eq/FU, CML2 Baseline) Unnamed: 50 Fresh W. (L/FU)  \\\n",
            "12                             5.344289   90.741576               0   \n",
            "33                             3.384082  237.740632        6.681145   \n",
            "\n",
            "     Unnamed: 52 Strs. W. WU (L/FU)    Unnamed: 54  \n",
            "12  11383.532966                  0  807659.273424  \n",
            "33  35511.362436           5.146018  164085.681524  \n",
            "\n",
            "[2 rows x 55 columns]\n"
          ]
        }
      ]
    },
    {
      "cell_type": "markdown",
      "source": [
        "3. What is going on here? Is this reasonable? Refer back to the original paper if helpful."
      ],
      "metadata": {
        "id": "HFMrjUqPjcY_"
      }
    },
    {
      "cell_type": "markdown",
      "source": [
        " Upon reviewing the study by Poore and Nemecek (2018), it becomes evident that these negative values are attributed to the carbon sequestration capabilities of certain perennial crops. Perennial plants, such as nut trees, have the ability to absorb and store carbon dioxide from the atmosphere in their biomass and soils over extended periods. This sequestration can offset the GHG emissions associated with their cultivation and production processes. In some cases, the amount of carbon sequestered surpasses the emissions generated, resulting in a net negative GHG emission value. Therefore, these negative values are not errors but reflect the beneficial environmental impact of specific crops that contribute to carbon sequestration."
      ],
      "metadata": {
        "id": "zqqBa3w000UR"
      }
    }
  ]
}